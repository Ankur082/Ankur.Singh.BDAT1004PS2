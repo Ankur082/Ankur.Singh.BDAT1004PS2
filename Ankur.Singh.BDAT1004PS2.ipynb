{
 "cells": [
  {
   "cell_type": "markdown",
   "metadata": {},
   "source": [
    "## Question 1\n",
    "Consider the following Python module:\n",
    "\n",
    "a = 0\n",
    "\n",
    "def b():\n",
    "    global a\n",
    "    a = c(a)\n",
    "\n",
    "def c(a):\n",
    "    return a + 2\n",
    "\n",
    "After importing the module into the interpreter, you execute:\n",
    "\n",
    "--- b( )\n",
    "\n",
    "--- b( )\n",
    "\n",
    "--- b( )\n",
    "\n",
    "--- a\n",
    "\n",
    "?\n",
    "\n",
    "What value is displayed when the last expression (a) is evaluated? Explain your answer by indicating what happens in every executed statement."
   ]
  },
  {
   "cell_type": "code",
   "execution_count": 58,
   "metadata": {},
   "outputs": [],
   "source": [
    "a = 0\n",
    "\n",
    "def b():\n",
    "    global a\n",
    "    a = c(a)\n",
    "\n",
    "def c(a):\n",
    "    return a + 2"
   ]
  },
  {
   "cell_type": "code",
   "execution_count": 59,
   "metadata": {},
   "outputs": [
    {
     "data": {
      "text/plain": [
       "6"
      ]
     },
     "execution_count": 59,
     "metadata": {},
     "output_type": "execute_result"
    }
   ],
   "source": [
    "b() # In first execution value of a=0, therefore c(a) returns 0+2=2 and after executing function b() value of a is 2\n",
    "b() # In second execution value of a=2, therefore c(a) returns 2+2=2 and after executing function b() value of a is 4\n",
    "b() # In third execution value of a=4, therefore c(a) returns 4+2=2 and after executing function b() value of a is 6\n",
    "a   # after executing b() three times, 'a' holds value 6 "
   ]
  },
  {
   "cell_type": "markdown",
   "metadata": {},
   "source": [
    "## Question 2\n",
    "Function fileLength(), given to you, takes the name of a file as input and returns the length of the file:\n",
    "\n",
    "--- fileLength('midterm.py')\n",
    "\n",
    "284\n",
    "\n",
    "--- fileLength('idterm.py')\n",
    "Traceback (most recent call last):\n",
    "  File \"<pyshell#34>\", line 1, in <module>\n",
    "    fileLength('idterm.py')\n",
    "  File \"/Users/me/midterm.py\", line 3, in fileLength\n",
    "    infile = open(filename)\n",
    "FileNotFoundError: [Errno 2] No such file or directory: 'idterm.py'\n",
    "\n",
    "As shown above, if the file cannot be found by the interpreter or if it cannot be read as a text file, an exception will be raised. Modify function fileLength() so that a friendly message is printed instead:\n",
    "\n",
    "--- fileLength('midterm.py')\n",
    "    \n",
    "358\n",
    "    \n",
    "--- fileLength('idterm.py')\n",
    "File idterm.py not found.\n"
   ]
  },
  {
   "cell_type": "code",
   "execution_count": 92,
   "metadata": {},
   "outputs": [],
   "source": [
    "def file_length(file_name):\n",
    "    try:    \n",
    "        file = open(file_name)\n",
    "        contents = file.read()\n",
    "        file.close()    \n",
    "        print(len(contents))\n",
    "    except:\n",
    "        print('File ' + file_name +' not found.')"
   ]
  },
  {
   "cell_type": "code",
   "execution_count": 93,
   "metadata": {},
   "outputs": [
    {
     "name": "stdout",
     "output_type": "stream",
     "text": [
      "54\n"
     ]
    }
   ],
   "source": [
    "file_length('midterm.py')"
   ]
  },
  {
   "cell_type": "code",
   "execution_count": 94,
   "metadata": {},
   "outputs": [
    {
     "name": "stdout",
     "output_type": "stream",
     "text": [
      "File idterm.py not found.\n"
     ]
    }
   ],
   "source": [
    "file_length('idterm.py')"
   ]
  },
  {
   "cell_type": "markdown",
   "metadata": {},
   "source": [
    "## Question 3\n",
    "Write a class named Marsupial that can be used as shown below:\n",
    "\n",
    "--- m = Marsupial()\n",
    "--- m.put_in_pouch('doll')\n",
    "--- m.put_in_pouch('firetruck')\n",
    "--- m.put_in_pouch('kitten')\n",
    "--- m.pouch_contents()\n",
    "['doll', 'firetruck', 'kitten']\n",
    "\n",
    "Now write a class named Kangaroo as a subclass of Marsupial that inherits all the attributes of Marsupial and also:\n",
    "a.\textends the Marsupial __init__ constructor to take, as input, the coordinates x and y of the Kangaroo object,\n",
    "b.\tsupports method jump that takes number values dx and dy as input and moves the kangaroo by dx units along the x-axis and by dy units along the y-axis, and\n",
    "c.\toverloads the __str__ operator so it behaves as shown below.\n",
    "\n",
    "--- k = Kangaroo(0,0)\n",
    "--- print(k)\n",
    "I am a Kangaroo located at coordinates (0,0)\n",
    "--- k.put_in_pouch('doll')\n",
    "--- k.put_in_pouch('firetruck')\n",
    "--- k.put_in_pouch('kitten')\n",
    "--- k.pouch_contents()\n",
    "['doll', 'firetruck', 'kitten']\n",
    "--- k.jump(1,0)\n",
    "--- k.jump(1,0)\n",
    "--- k.jump(1,0)\n",
    "--- print(k)\n",
    "I am a Kangaroo located at coordinates (3,0)\n",
    "\n"
   ]
  },
  {
   "cell_type": "code",
   "execution_count": 3,
   "metadata": {},
   "outputs": [
    {
     "name": "stdout",
     "output_type": "stream",
     "text": [
      "I am a Kangaroo located at coordinates (0,0)\n",
      "['doll', 'firetruck', 'kitten']\n",
      "I am a Kangaroo located at coordinates (3,0)\n"
     ]
    }
   ],
   "source": [
    "class Marsupial:\n",
    "    ' class that represents Marsupials'\n",
    "    \n",
    "    def __init__(self):\n",
    "        self.pouch_items = []      #Empty List\n",
    "    \n",
    "    def put_in_pouch(self, item):\n",
    "        self.pouch_items.append(item)    #append items to the list\n",
    "    \n",
    "    def pouch_contents(self):\n",
    "        print (self.pouch_items)      #prints item list\n",
    "    \n",
    "# m = Marsupial()\n",
    "# m.put_in_pouch('doll')\n",
    "# m.put_in_pouch('firetruck')\n",
    "# m.put_in_pouch('kitten')\n",
    "# m.pouch_contents()\n",
    " \n",
    "    \n",
    "class Kangaroo(Marsupial):      # subclass of Marsupial\n",
    "    'Subclass of Marspuial'\n",
    "    \n",
    "    def __init__(self, x,y):   #extended __init__ constructor to take x and y coordinates as input\n",
    "        \n",
    "        self.x = x\n",
    "        self.y = x\n",
    "        \n",
    "        Marsupial.__init__(self)\n",
    "        \n",
    "    def jump(self, dx, dy):    # To move the Kangaroo by dx and dy units along x-axis and y-axis respectively\n",
    "        self.x += dx\n",
    "        self.y += dy\n",
    "        \n",
    "    def __str__(self):         # To overload __str__ operator\n",
    "        \n",
    "        return \"I am a Kangaroo located at coordinates (\"+str(self.x)+\",\"+str(self.y)+\")\"\n",
    "        \n",
    "k = Kangaroo(0,0)\n",
    "\n",
    "print(k)\n",
    "      \n",
    "k.put_in_pouch('doll')\n",
    "k.put_in_pouch('firetruck')\n",
    "k.put_in_pouch('kitten')\n",
    "k.pouch_contents()\n",
    "\n",
    "k.jump(1,0)\n",
    "k.jump(1,0)\n",
    "k.jump(1,0)\n",
    "print(k)\n"
   ]
  },
  {
   "cell_type": "markdown",
   "metadata": {},
   "source": [
    "## Question 4\n",
    "Implement a new GUI class App that combines user-defined tkinter widget classes Calculator and Mortgage displayed below: (This question can be done using a .py file)\n",
    " \n",
    "\n"
   ]
  },
  {
   "cell_type": "code",
   "execution_count": 5,
   "metadata": {},
   "outputs": [],
   "source": [
    "from tkinter import *\n",
    "root = Tk()\n",
    "\n",
    "\n",
    "\n",
    "class Mortgage(Frame):\n",
    "\n",
    "    def __init__(self, master):\n",
    "        \n",
    "        Frame.__init__(self, master)\n",
    "        \n",
    "        labelLoanAmount =Label(self,padx=10,text= 'Loan Amount:')        # Loan Amount Label\n",
    "        labelLoanAmount.grid(row=1, column=0, columnspan=4)\n",
    "        \n",
    "        entryLoanAmount= Entry(self)                                     # Loan Amount entry\n",
    "        entryLoanAmount.grid(row=1, column=4, columnspan=4)\n",
    "\n",
    "\n",
    "        labelInterestRate =Label(self,padx=10,text= 'Interest Rate:')    # Interest Rate Label\n",
    "        labelInterestRate.grid(row=2, column=0, columnspan=4)\n",
    "        \n",
    "        entryInterestRate= Entry(self)                                   # Inerest Rate Entry\n",
    "        entryInterestRate.grid(row=2, column=4, columnspan=4)  \n",
    "\n",
    "\n",
    "        labelLoanTerms =Label(self,padx=10,text= 'Loan Terms:')          # Loan Terms Label\n",
    "        labelLoanTerms.grid(row=3, column=0, columnspan=4)\n",
    "        \n",
    "        entryLoanTerms= Entry(self)                                      # Loan Terms Entry\n",
    "        entryLoanTerms.grid(row=3, column=4, columnspan=4)\n",
    "\n",
    "\n",
    "        buttonComputeMortage =Button(self,padx=10,text= 'Compute Mortgage')  # Button to Compute Mortage\n",
    "        buttonComputeMortage.grid(row=4, column=0, columnspan=4)\n",
    "        \n",
    "        entryComputeMortage= Entry(self)                                  # Morgate Entry\n",
    "        entryComputeMortage.grid(row=4, column=4, columnspan=4)\n",
    "        \n",
    "class Calculator(Frame):\n",
    "\n",
    "    def __init__(self, master):\n",
    "        \n",
    "        Frame.__init__(self, master)\n",
    "        \n",
    "        calculatorDisplay = Entry(self)                                   # Calculator Entry/Display                             \n",
    "        calculatorDisplay.grid(row=0, column=0, columnspan=4)\n",
    "\n",
    "        numbers = [['MC',  'M+', 'M-', 'MR'],                             # Calculator numbers and functions\n",
    "                   ['C', '√','x²','+'],\n",
    "                   ['7','8','9','-'],\n",
    "                   ['4', '5','6','*'],\n",
    "                   ['1','2', '3', '/'],\n",
    "                   ['0', '.', '+-', '=']\n",
    "                ]\n",
    "        for r in range(6):\n",
    "            for c in range(4):\n",
    "                button= Button(self,padx=3, pady=3, width=2,text= numbers[r][c])\n",
    "                button.grid(row=r+1, column=c)\n",
    "                \n",
    "mortgage = Mortgage(root)\n",
    "mortgage.pack(side=LEFT)\n",
    "\n",
    "calculator = Calculator(root)\n",
    "calculator.pack(side=RIGHT)\n",
    "\n",
    "\n",
    "root.mainloop()"
   ]
  },
  {
   "cell_type": "markdown",
   "metadata": {},
   "source": [
    "Mortage Calculator GUI snapshot is uploaded in another file."
   ]
  },
  {
   "cell_type": "markdown",
   "metadata": {},
   "source": [
    "## Question 5\n",
    "Write function collatz() that takes a positive integer x as input and prints the Collatz sequence starting at x. A Collatz sequence is obtained by repeatedly applying this rule to the previous number x in the sequence:\n",
    " \n",
    "x = {█(  x/2                    if x is even@3x+1               if x is odd)┤\n",
    "\n",
    "Your function should stop when the sequence gets to number 1. Your implementation must be recursive, without any loops.\n",
    "\n",
    "--- collatz(1)\n",
    "1\n",
    "--- collatz(10)\n",
    "10\n",
    "5\n",
    "16\n",
    "8\n",
    "4\n",
    "2\n",
    "1\n"
   ]
  },
  {
   "cell_type": "code",
   "execution_count": 32,
   "metadata": {},
   "outputs": [],
   "source": [
    "def collatz(x):\n",
    "    \n",
    "    if x<0:                                        # condition to check the input integer is poitive\n",
    "        print('Plese Enter a positive Integer!')\n",
    "    \n",
    "    elif x==1:                                     # Base Case\n",
    "        print(x)\n",
    "       \n",
    "    elif x>1:                                      # recursive step\n",
    "        print(x)\n",
    "        if x%2==0:\n",
    "            x=x//2\n",
    "        else:\n",
    "            x=3*x+1\n",
    "        collatz(x)"
   ]
  },
  {
   "cell_type": "code",
   "execution_count": 33,
   "metadata": {},
   "outputs": [
    {
     "name": "stdout",
     "output_type": "stream",
     "text": [
      "1\n",
      "10\n",
      "5\n",
      "16\n",
      "8\n",
      "4\n",
      "2\n",
      "1\n"
     ]
    }
   ],
   "source": [
    "collatz(1)\n",
    "collatz(10)"
   ]
  },
  {
   "cell_type": "markdown",
   "metadata": {},
   "source": [
    "## Question 6\n",
    "Write a recursive method binary() that takes a non-negative integer n and prints the binary representation of integer n.\n",
    "\n",
    "--- binary(0)\n",
    "0\n",
    "--- binary(1)\n",
    "1\n",
    "--- binary(3)\n",
    "11\n",
    "--- binary(9)\n",
    "1001\n"
   ]
  },
  {
   "cell_type": "code",
   "execution_count": 69,
   "metadata": {},
   "outputs": [],
   "source": [
    "def binary(x):\n",
    "\n",
    "    if x<0:                                             #condition to check the input integer is non-negative\n",
    "        print('Please enter a non-negative integer!')\n",
    "  \n",
    "    elif x==0:                                          #Base case\n",
    "        return x\n",
    "    \n",
    "    else:                                               #recursive case\n",
    "        return (x%2 + 10*binary(x//2))\n",
    "    \n",
    "    print(binary(x))"
   ]
  },
  {
   "cell_type": "code",
   "execution_count": 78,
   "metadata": {},
   "outputs": [
    {
     "data": {
      "text/plain": [
       "0"
      ]
     },
     "execution_count": 78,
     "metadata": {},
     "output_type": "execute_result"
    }
   ],
   "source": [
    "binary(0)"
   ]
  },
  {
   "cell_type": "code",
   "execution_count": 80,
   "metadata": {},
   "outputs": [
    {
     "data": {
      "text/plain": [
       "1"
      ]
     },
     "execution_count": 80,
     "metadata": {},
     "output_type": "execute_result"
    }
   ],
   "source": [
    "binary(1)"
   ]
  },
  {
   "cell_type": "code",
   "execution_count": 82,
   "metadata": {},
   "outputs": [
    {
     "data": {
      "text/plain": [
       "11"
      ]
     },
     "execution_count": 82,
     "metadata": {},
     "output_type": "execute_result"
    }
   ],
   "source": [
    "binary(3)"
   ]
  },
  {
   "cell_type": "code",
   "execution_count": 83,
   "metadata": {},
   "outputs": [
    {
     "data": {
      "text/plain": [
       "1001"
      ]
     },
     "execution_count": 83,
     "metadata": {},
     "output_type": "execute_result"
    }
   ],
   "source": [
    "binary(9)"
   ]
  },
  {
   "cell_type": "markdown",
   "metadata": {},
   "source": [
    "## Question 7\n",
    "Implement a class named HeadingParser that can be used to parse an HTML document, and retrieve and print all the headings in the document. You should implement your class as a subclass of HTMLParser, defined in Standard Library module html.parser. When fed a string containing HTML code, your class should print the headings, one per line and in the order in which they appear in the document. Each heading should be indented as follows: an h1 heading should have indentation 0, and h2 heading should have indentation 1, etc. Test your implementation using w3c.html.\n",
    "\n",
    "--- infile = open('w3c.html')\n",
    "--- content = infile.read()\n",
    "--- infile.close()\n",
    "--- hp = HeadingParser()\n",
    "--- hp.feed(content)\n",
    "W3C Mission\n",
    " Principles\n"
   ]
  },
  {
   "cell_type": "code",
   "execution_count": 106,
   "metadata": {},
   "outputs": [
    {
     "name": "stdout",
     "output_type": "stream",
     "text": [
      "W3C Mission\n",
      " Principles\n"
     ]
    }
   ],
   "source": [
    "from html.parser import HTMLParser\n",
    "\n",
    "class HeadingParser(HTMLParser):\n",
    "    \n",
    "    def _init_(self):\n",
    "        HTMLParser.__init__(self)\n",
    "        self.heading = False\n",
    "        \n",
    "    def handle_starttag(self, tag, attrs):\n",
    "        \n",
    "        if tag in {'h1','h2','h3','h4','h5','h6'}:   # 6 levels of HTML headings\n",
    "            self.heading = True\n",
    "            self.indsize = int(tag[1])-1             \n",
    "            self.indent = ' '*self.indsize           # indentation as per tag number\n",
    "        else:\n",
    "            self.heading = False\n",
    "\n",
    "    def handle_data(self, data):\n",
    "        if self.heading == True:\n",
    "            print (\"{}{}\".format(self.indent, data))\n",
    "            self.heading = False\n",
    "            \n",
    "infile = open('w3c.html')\n",
    "content = infile.read()\n",
    "infile.close()\n",
    "headingparser = HeadingParser()\n",
    "headingparser.feed(content)              \n",
    "            "
   ]
  },
  {
   "cell_type": "markdown",
   "metadata": {},
   "source": [
    "## Question 8\n",
    "Implement recursive function webdir() that takes as input: a URL (as a string) and non-negative integers depth and indent. Your function should visit every web page reachable from the starting URL web page in depth clicks or less, and print each web page's URL. As shown below, indentation, specified by indent,  should be used to indicate the depth of a URL.\n",
    "\n",
    "--- webdir('http://reed.cs.depaul.edu/lperkovic/csc242/test1.html', 2, 0)\n",
    "http://reed.cs.depaul.edu/lperkovic/csc242/test1.html\n",
    "    http://reed.cs.depaul.edu/lperkovic/csc242/test2.html\n",
    "        http://reed.cs.depaul.edu/lperkovic/csc242/test4.html\n",
    "    http://reed.cs.depaul.edu/lperkovic/csc242/test3.html\n",
    "        http://reed.cs.depaul.edu/lperkovic/csc242/test4.html\n"
   ]
  },
  {
   "cell_type": "code",
   "execution_count": 31,
   "metadata": {},
   "outputs": [
    {
     "name": "stdout",
     "output_type": "stream",
     "text": [
      " https://www.cnbc.com/technology/\n",
      "  https://www.cnbc.com/technology/#MainContent\n"
     ]
    }
   ],
   "source": [
    "from html.parser import HTMLParser\n",
    "from urllib.parse import urljoin\n",
    "from urllib.request import urlopen\n",
    "\n",
    "class Collector(HTMLParser):\n",
    "    \n",
    "    def __init__(self, url):                          #initializes the parser and the initial indentation      \n",
    "        HTMLParser.__init__(self)\n",
    "        self.url = url\n",
    "        self.links = []\n",
    "        \n",
    "    def handle_starttag(self, tag, attrs):              #collects hyperlink URLs in their absolute format     \n",
    "        if tag == 'a':                                        # search for href attribute and print its value\n",
    "\n",
    "            for attr in attrs:\n",
    "                if attr[0] == 'href':\n",
    "                    \n",
    "                    absolute = urljoin(self.url, attr[1])    # construct absolute URL\n",
    "                    if absolute[:4] == 'http': \n",
    "                        self.links.append(absolute)\n",
    "                        \n",
    "    def getLinks(self):      \n",
    "        return self.links\n",
    "\n",
    "\n",
    "def analyze(url):\n",
    "    \n",
    "    content = urlopen(url).read().decode()\n",
    "    collector = Collector(url)\n",
    "    collector.feed(content)\n",
    "    urls = collector.getLinks()          \n",
    "\n",
    "    return urls      \n",
    "    \n",
    "visited = set()                                     # initialize visited to an empty set\n",
    "def webdir(url,depth,indent):\n",
    "   \n",
    "    global visited                                  # warns the programmer \n",
    "    visited.add(url)\n",
    "\n",
    "    if depth == 0:\n",
    "        return\n",
    "    \n",
    "    print(' '*indent, url)\n",
    "    indent +=1\n",
    "    depth -=1\n",
    "       \n",
    "    links = analyze(url)                           # analyze() returns a list of hyperlink URLs in web page url \n",
    "      \n",
    "    for link in links:                           \n",
    "        \n",
    "        if link not in visited:\n",
    "            try:\n",
    "                webdir(link,depth,indent)\n",
    "            except:\n",
    "                pass\n",
    "\n",
    "\n",
    "webdir('https://www.cnbc.com/technology/', 2, 0)"
   ]
  },
  {
   "cell_type": "markdown",
   "metadata": {},
   "source": [
    "## Question 9\n",
    "Write SQL queries on the below database table that return:\n",
    "\n",
    "\n",
    "City \tCountry \tSeason \tTemperature (C)\tRainfall (mm)\n",
    "Mumbai \tIndia \tWinter \t24.8 \t5.9 \n",
    "Mumbai \tIndia \tSpring\t28.4 \t16.2 \n",
    "Mumbai \tIndia \tSummer\t27.9 \t1549.4 \n",
    "Mumbai \tIndia \tFall\t27.6 \t346.0 \n",
    "London \tUnited Kingdom \tWinter\t4.2 \t207.7 \n",
    "London \tUnited Kingdom \tSpring\t8.3 \t169.6 \n",
    "London \tUnited Kingdom \tSummer\t15.7 \t157.0 \n",
    "London \tUnited Kingdom \tFall\t10.4 \t218.5 \n",
    "Cairo \tEgypt \tWinter\t13.6 \t16.5 \n",
    "Cairo \tEgypt \tSpring\t20.7 \t6.5 \n",
    "Cairo \tEgypt \tSummer\t27.7 \t0.1 \n",
    "Cairo \tEgypt \tFall\t22.2 \t4.5 \n",
    "\n"
   ]
  },
  {
   "cell_type": "markdown",
   "metadata": {},
   "source": [
    "a)\tAll the temperature data.\n",
    "\n",
    "    SELECT TEMPERATURE(C) FROM table"
   ]
  },
  {
   "cell_type": "markdown",
   "metadata": {},
   "source": [
    "b)\tAll the cities, but without repetition.\n",
    "    \n",
    "    SELECT DISTINCT City FROM table"
   ]
  },
  {
   "cell_type": "markdown",
   "metadata": {},
   "source": [
    "c)\tAll the records for India.\n",
    "    \n",
    "    SELECT * FROM table WHERE Country = 'India'"
   ]
  },
  {
   "cell_type": "markdown",
   "metadata": {},
   "source": [
    "d)\tAll the Fall records.\n",
    "    \n",
    "    SELECT * FROM table WHERE Season = 'Fall'"
   ]
  },
  {
   "cell_type": "markdown",
   "metadata": {},
   "source": [
    "e)\tThe city, country, and season for which the average rainfall is between 200 and 400 millimeters.\n",
    "  \n",
    "    SELECT City, Country, Season FROM table WHERE Rainfall(mm) BETWEEN 200 AND 400"
   ]
  },
  {
   "cell_type": "markdown",
   "metadata": {},
   "source": [
    "f)\tThe city and country for which the average Fall temperature is above 20 degrees, in increasing temperature order.\n",
    "    \n",
    "    SELECT City, Country FROM table WHERE Season = 'Fall' AND Temperature(C) > 20 ORDER BY Temperature(C)"
   ]
  },
  {
   "cell_type": "markdown",
   "metadata": {},
   "source": [
    "g)\tThe total annual rainfall for Cairo.\n",
    "\n",
    "    SELECT SUM(Rainfall(mm)) FROM table WHERE City = 'Cairo'"
   ]
  },
  {
   "cell_type": "markdown",
   "metadata": {},
   "source": [
    "h)\tThe total rainfall for each season.\n",
    "\n",
    "    SELECT Season, SUM(Rainfall(mm)) FROM table GROUP BY Season"
   ]
  },
  {
   "cell_type": "markdown",
   "metadata": {},
   "source": [
    "## Question 10\n",
    ". Suppose list words is defined as follows:\n",
    "\n",
    "--- words = ['The', 'quick', 'brown', 'fox', 'jumps', 'over', 'the', 'lazy', 'dog']\n",
    "\n"
   ]
  },
  {
   "cell_type": "code",
   "execution_count": 107,
   "metadata": {},
   "outputs": [],
   "source": [
    "words = ['The', 'quick', 'brown', 'fox', 'jumps', 'over', 'the', 'lazy', 'dog']"
   ]
  },
  {
   "cell_type": "markdown",
   "metadata": {},
   "source": [
    "Write list comprehension expressions that use list words and generate the following lists:\n",
    "\n"
   ]
  },
  {
   "cell_type": "markdown",
   "metadata": {},
   "source": [
    "a)\t['THE', 'QUICK', 'BROWN', 'FOX', 'JUMPS', 'OVER', 'THE', 'LAZY', 'DOG']"
   ]
  },
  {
   "cell_type": "code",
   "execution_count": 113,
   "metadata": {},
   "outputs": [
    {
     "name": "stdout",
     "output_type": "stream",
     "text": [
      "['THE', 'QUICK', 'BROWN', 'FOX', 'JUMPS', 'OVER', 'THE', 'LAZY', 'DOG']\n"
     ]
    }
   ],
   "source": [
    "uppercase_list = [ word.upper() for word in words]\n",
    "print(upper_case_list)"
   ]
  },
  {
   "cell_type": "markdown",
   "metadata": {},
   "source": [
    "b)\t['the', 'quick', 'brown', 'fox', 'jumps', 'over', 'the', 'lazy', 'dog']"
   ]
  },
  {
   "cell_type": "code",
   "execution_count": 114,
   "metadata": {},
   "outputs": [
    {
     "name": "stdout",
     "output_type": "stream",
     "text": [
      "['the', 'quick', 'brown', 'fox', 'jumps', 'over', 'the', 'lazy', 'dog']\n"
     ]
    }
   ],
   "source": [
    "lowercase_list = [ word.lower() for word in words]\n",
    "print(lowercase_list)"
   ]
  },
  {
   "cell_type": "markdown",
   "metadata": {},
   "source": [
    "c)\t[3, 5, 5, 3, 5, 4, 3, 4, 3] (the list of lengths of words in list words)."
   ]
  },
  {
   "cell_type": "code",
   "execution_count": 116,
   "metadata": {},
   "outputs": [
    {
     "name": "stdout",
     "output_type": "stream",
     "text": [
      "[3, 5, 5, 3, 5, 4, 3, 4, 3]\n"
     ]
    }
   ],
   "source": [
    "word_length = [ len(word) for word in words]\n",
    "print(word_length)"
   ]
  },
  {
   "cell_type": "markdown",
   "metadata": {},
   "source": [
    "d)\t[['THE', 'the', 3], ['QUICK', 'quick', 5], ['BROWN', 'brown', 5], ['FOX', 'fox', 3], ['JUMPS', 'jumps', 5], ['OVER', 'over', 4], ['THE', 'the', 3], ['LAZY', 'lazy', 4], ['DOG', 'dog', 3]] (the list containing a list for every word of list words, where each list contains the word in uppercase and lowercase and the length of the word.)"
   ]
  },
  {
   "cell_type": "code",
   "execution_count": 117,
   "metadata": {},
   "outputs": [
    {
     "name": "stdout",
     "output_type": "stream",
     "text": [
      "[['THE', 'the', 3], ['QUICK', 'quick', 5], ['BROWN', 'brown', 5], ['FOX', 'fox', 3], ['JUMPS', 'jumps', 5], ['OVER', 'over', 4], ['THE', 'the', 3], ['LAZY', 'lazy', 4], ['DOG', 'dog', 3]]\n"
     ]
    }
   ],
   "source": [
    "upper_lower_length = [ [word.upper(),word.lower(), len(word)] for word in words]\n",
    "print(upper_lower_length)"
   ]
  },
  {
   "cell_type": "markdown",
   "metadata": {},
   "source": [
    "e)\t['The', 'quick', 'brown', 'fox', 'jumps', 'over', 'the', 'lazy', 'dog'] (the list of words in list words containing 4 or more characters.)\n",
    "\n"
   ]
  },
  {
   "cell_type": "code",
   "execution_count": 118,
   "metadata": {},
   "outputs": [
    {
     "name": "stdout",
     "output_type": "stream",
     "text": [
      "['quick', 'brown', 'jumps', 'over', 'lazy']\n"
     ]
    }
   ],
   "source": [
    "char_4_list = [ word for word in words if (len(word)>=4)]\n",
    "print(char_4_list)"
   ]
  }
 ],
 "metadata": {
  "kernelspec": {
   "display_name": "Python 3",
   "language": "python",
   "name": "python3"
  },
  "language_info": {
   "codemirror_mode": {
    "name": "ipython",
    "version": 3
   },
   "file_extension": ".py",
   "mimetype": "text/x-python",
   "name": "python",
   "nbconvert_exporter": "python",
   "pygments_lexer": "ipython3",
   "version": "3.8.3"
  }
 },
 "nbformat": 4,
 "nbformat_minor": 4
}
